{
 "cells": [
  {
   "cell_type": "code",
   "execution_count": 88,
   "metadata": {},
   "outputs": [],
   "source": [
    "import pandas as pd\n",
    "import datetime as dt\n",
    "from pandas_datareader import data"
   ]
  },
  {
   "cell_type": "code",
   "execution_count": 32,
   "metadata": {},
   "outputs": [
    {
     "data": {
      "text/plain": [
       "datetime.date(2010, 1, 20)"
      ]
     },
     "execution_count": 32,
     "metadata": {},
     "output_type": "execute_result"
    }
   ],
   "source": [
    "dt.date(2010,1,20) # YYYY MM DD HH MM SS"
   ]
  },
  {
   "cell_type": "code",
   "execution_count": 33,
   "metadata": {},
   "outputs": [],
   "source": [
    "dates=[dt.date(2016,2,1),dt.date(2018,5,14),dt.date(2020,5,29)]"
   ]
  },
  {
   "cell_type": "code",
   "execution_count": 34,
   "metadata": {},
   "outputs": [
    {
     "data": {
      "text/plain": [
       "DatetimeIndex(['2016-02-01', '2018-05-14', '2020-05-29'], dtype='datetime64[ns]', freq=None)"
      ]
     },
     "execution_count": 34,
     "metadata": {},
     "output_type": "execute_result"
    }
   ],
   "source": [
    "d=[\"2016/02/01\",\"2018/05/14\",\"2020/5/29\"]\n",
    "pd.DatetimeIndex(d)"
   ]
  },
  {
   "cell_type": "code",
   "execution_count": 35,
   "metadata": {},
   "outputs": [
    {
     "data": {
      "text/plain": [
       "Timestamp('2016-03-05 00:00:00')"
      ]
     },
     "execution_count": 35,
     "metadata": {},
     "output_type": "execute_result"
    }
   ],
   "source": [
    "pd.Timestamp(\"2016/03/05\")"
   ]
  },
  {
   "cell_type": "code",
   "execution_count": 36,
   "metadata": {},
   "outputs": [
    {
     "data": {
      "text/plain": [
       "DatetimeIndex(['2015-01-03', '2014-02-08', '2016-01-01', '1994-07-04'], dtype='datetime64[ns]', freq=None)"
      ]
     },
     "execution_count": 36,
     "metadata": {},
     "output_type": "execute_result"
    }
   ],
   "source": [
    "pd.to_datetime([\"2015-01-03\",\"2014/02/08\",\"2016\",\"4th July,1994\"])"
   ]
  },
  {
   "cell_type": "code",
   "execution_count": 37,
   "metadata": {},
   "outputs": [
    {
     "data": {
      "text/plain": [
       "DatetimeIndex(['2016-02-01', '2018-05-14', '2020-05-29'], dtype='datetime64[ns]', freq=None)"
      ]
     },
     "execution_count": 37,
     "metadata": {},
     "output_type": "execute_result"
    }
   ],
   "source": [
    "pd.to_datetime(dates,errors=\"coerce\") #coerce stores non datetimeelements as NaT (Not Date Time)"
   ]
  },
  {
   "cell_type": "code",
   "execution_count": 38,
   "metadata": {},
   "outputs": [
    {
     "data": {
      "text/plain": [
       "DatetimeIndex(['2012-09-09', '2012-09-10', '2012-09-11', '2012-09-12',\n",
       "               '2012-09-13', '2012-09-14', '2012-09-15', '2012-09-16',\n",
       "               '2012-09-17', '2012-09-18', '2012-09-19', '2012-09-20',\n",
       "               '2012-09-21', '2012-09-22', '2012-09-23', '2012-09-24',\n",
       "               '2012-09-25', '2012-09-26', '2012-09-27', '2012-09-28',\n",
       "               '2012-09-29', '2012-09-30', '2012-10-01', '2012-10-02',\n",
       "               '2012-10-03', '2012-10-04', '2012-10-05', '2012-10-06',\n",
       "               '2012-10-07', '2012-10-08', '2012-10-09', '2012-10-10',\n",
       "               '2012-10-11', '2012-10-12', '2012-10-13', '2012-10-14',\n",
       "               '2012-10-15', '2012-10-16', '2012-10-17', '2012-10-18',\n",
       "               '2012-10-19', '2012-10-20', '2012-10-21', '2012-10-22',\n",
       "               '2012-10-23', '2012-10-24', '2012-10-25', '2012-10-26',\n",
       "               '2012-10-27', '2012-10-28'],\n",
       "              dtype='datetime64[ns]', freq='D')"
      ]
     },
     "execution_count": 38,
     "metadata": {},
     "output_type": "execute_result"
    }
   ],
   "source": [
    "pd.date_range(start=\"2012-09-09\",periods=50,freq=\"D\") # D means One Day 6D means 6 Days"
   ]
  },
  {
   "cell_type": "code",
   "execution_count": 39,
   "metadata": {},
   "outputs": [
    {
     "data": {
      "text/plain": [
       "DatetimeIndex(['2012-09-10', '2012-09-11', '2012-09-12', '2012-09-13',\n",
       "               '2012-09-14', '2012-09-17', '2012-09-18', '2012-09-19',\n",
       "               '2012-09-20', '2012-09-21', '2012-09-24', '2012-09-25',\n",
       "               '2012-09-26', '2012-09-27', '2012-09-28', '2012-10-01',\n",
       "               '2012-10-02', '2012-10-03', '2012-10-04', '2012-10-05',\n",
       "               '2012-10-08', '2012-10-09', '2012-10-10', '2012-10-11',\n",
       "               '2012-10-12', '2012-10-15', '2012-10-16', '2012-10-17',\n",
       "               '2012-10-18', '2012-10-19', '2012-10-22', '2012-10-23',\n",
       "               '2012-10-24', '2012-10-25', '2012-10-26', '2012-10-29',\n",
       "               '2012-10-30', '2012-10-31', '2012-11-01', '2012-11-02',\n",
       "               '2012-11-05', '2012-11-06', '2012-11-07', '2012-11-08',\n",
       "               '2012-11-09', '2012-11-12', '2012-11-13', '2012-11-14',\n",
       "               '2012-11-15', '2012-11-16'],\n",
       "              dtype='datetime64[ns]', freq='B')"
      ]
     },
     "execution_count": 39,
     "metadata": {},
     "output_type": "execute_result"
    }
   ],
   "source": [
    "pd.date_range(start=\"2012-09-09\",periods=50,freq=\"B\") #Business Week"
   ]
  },
  {
   "cell_type": "code",
   "execution_count": 40,
   "metadata": {},
   "outputs": [
    {
     "data": {
      "text/plain": [
       "DatetimeIndex(['1999-01-17', '1999-01-24', '1999-01-31', '1999-02-07',\n",
       "               '1999-02-14', '1999-02-21', '1999-02-28', '1999-03-07',\n",
       "               '1999-03-14', '1999-03-21', '1999-03-28', '1999-04-04',\n",
       "               '1999-04-11', '1999-04-18', '1999-04-25', '1999-05-02',\n",
       "               '1999-05-09', '1999-05-16', '1999-05-23', '1999-05-30',\n",
       "               '1999-06-06', '1999-06-13', '1999-06-20', '1999-06-27',\n",
       "               '1999-07-04', '1999-07-11', '1999-07-18', '1999-07-25',\n",
       "               '1999-08-01', '1999-08-08', '1999-08-15', '1999-08-22',\n",
       "               '1999-08-29', '1999-09-05', '1999-09-12', '1999-09-19',\n",
       "               '1999-09-26', '1999-10-03', '1999-10-10', '1999-10-17',\n",
       "               '1999-10-24', '1999-10-31', '1999-11-07', '1999-11-14',\n",
       "               '1999-11-21', '1999-11-28', '1999-12-05', '1999-12-12',\n",
       "               '1999-12-19', '1999-12-26'],\n",
       "              dtype='datetime64[ns]', freq='W-SUN')"
      ]
     },
     "execution_count": 40,
     "metadata": {},
     "output_type": "execute_result"
    }
   ],
   "source": [
    "pd.date_range(end=\"1999-12-31\",periods=50,freq=\"W\")"
   ]
  },
  {
   "cell_type": "code",
   "execution_count": 41,
   "metadata": {},
   "outputs": [],
   "source": [
    "bunch=pd.date_range(start=\"2000-01-01\",end=\"2010-12-31\",freq=\"24D\")"
   ]
  },
  {
   "cell_type": "code",
   "execution_count": 42,
   "metadata": {},
   "outputs": [],
   "source": [
    "s=pd.Series(bunch)"
   ]
  },
  {
   "cell_type": "code",
   "execution_count": 43,
   "metadata": {},
   "outputs": [
    {
     "data": {
      "text/plain": [
       "0       1\n",
       "1       1\n",
       "2       2\n",
       "3       3\n",
       "4       4\n",
       "       ..\n",
       "163     9\n",
       "164    10\n",
       "165    11\n",
       "166    11\n",
       "167    12\n",
       "Length: 168, dtype: int64"
      ]
     },
     "execution_count": 43,
     "metadata": {},
     "output_type": "execute_result"
    }
   ],
   "source": [
    "s.dt.day\n",
    "s.dt.month"
   ]
  },
  {
   "cell_type": "code",
   "execution_count": 44,
   "metadata": {},
   "outputs": [
    {
     "data": {
      "text/plain": [
       "0     2000-01-01\n",
       "19    2001-04-01\n",
       "38    2002-07-01\n",
       "137   2009-01-01\n",
       "dtype: datetime64[ns]"
      ]
     },
     "execution_count": 44,
     "metadata": {},
     "output_type": "execute_result"
    }
   ],
   "source": [
    "s[s.dt.is_quarter_start]"
   ]
  },
  {
   "cell_type": "code",
   "execution_count": 45,
   "metadata": {},
   "outputs": [
    {
     "data": {
      "text/plain": [
       "0     2000-01-01\n",
       "19    2001-04-01\n",
       "38    2002-07-01\n",
       "104   2006-11-01\n",
       "109   2007-03-01\n",
       "137   2009-01-01\n",
       "142   2009-05-01\n",
       "dtype: datetime64[ns]"
      ]
     },
     "execution_count": 45,
     "metadata": {},
     "output_type": "execute_result"
    }
   ],
   "source": [
    "s[s.dt.is_month_start]"
   ]
  },
  {
   "cell_type": "code",
   "execution_count": 46,
   "metadata": {},
   "outputs": [
    {
     "data": {
      "text/plain": [
       "57   2003-09-30\n",
       "dtype: datetime64[ns]"
      ]
     },
     "execution_count": 46,
     "metadata": {},
     "output_type": "execute_result"
    }
   ],
   "source": [
    "s[s.dt.is_quarter_end]"
   ]
  },
  {
   "cell_type": "code",
   "execution_count": 49,
   "metadata": {},
   "outputs": [
    {
     "data": {
      "text/html": [
       "<div>\n",
       "<style scoped>\n",
       "    .dataframe tbody tr th:only-of-type {\n",
       "        vertical-align: middle;\n",
       "    }\n",
       "\n",
       "    .dataframe tbody tr th {\n",
       "        vertical-align: top;\n",
       "    }\n",
       "\n",
       "    .dataframe thead th {\n",
       "        text-align: right;\n",
       "    }\n",
       "</style>\n",
       "<table border=\"1\" class=\"dataframe\">\n",
       "  <thead>\n",
       "    <tr style=\"text-align: right;\">\n",
       "      <th></th>\n",
       "      <th>High</th>\n",
       "      <th>Low</th>\n",
       "      <th>Open</th>\n",
       "      <th>Close</th>\n",
       "      <th>Volume</th>\n",
       "      <th>Adj Close</th>\n",
       "    </tr>\n",
       "    <tr>\n",
       "      <th>Date</th>\n",
       "      <th></th>\n",
       "      <th></th>\n",
       "      <th></th>\n",
       "      <th></th>\n",
       "      <th></th>\n",
       "      <th></th>\n",
       "    </tr>\n",
       "  </thead>\n",
       "  <tbody>\n",
       "    <tr>\n",
       "      <th>2010-01-04</th>\n",
       "      <td>31.100000</td>\n",
       "      <td>30.590000</td>\n",
       "      <td>30.620001</td>\n",
       "      <td>30.950001</td>\n",
       "      <td>38409100.0</td>\n",
       "      <td>24.294369</td>\n",
       "    </tr>\n",
       "    <tr>\n",
       "      <th>2010-01-05</th>\n",
       "      <td>31.100000</td>\n",
       "      <td>30.639999</td>\n",
       "      <td>30.850000</td>\n",
       "      <td>30.959999</td>\n",
       "      <td>49749600.0</td>\n",
       "      <td>24.302216</td>\n",
       "    </tr>\n",
       "    <tr>\n",
       "      <th>2010-01-06</th>\n",
       "      <td>31.080000</td>\n",
       "      <td>30.520000</td>\n",
       "      <td>30.879999</td>\n",
       "      <td>30.770000</td>\n",
       "      <td>58182400.0</td>\n",
       "      <td>24.153070</td>\n",
       "    </tr>\n",
       "    <tr>\n",
       "      <th>2010-01-07</th>\n",
       "      <td>30.700001</td>\n",
       "      <td>30.190001</td>\n",
       "      <td>30.629999</td>\n",
       "      <td>30.450001</td>\n",
       "      <td>50559700.0</td>\n",
       "      <td>23.901886</td>\n",
       "    </tr>\n",
       "    <tr>\n",
       "      <th>2010-01-08</th>\n",
       "      <td>30.879999</td>\n",
       "      <td>30.240000</td>\n",
       "      <td>30.280001</td>\n",
       "      <td>30.660000</td>\n",
       "      <td>51197400.0</td>\n",
       "      <td>24.066734</td>\n",
       "    </tr>\n",
       "    <tr>\n",
       "      <th>...</th>\n",
       "      <td>...</td>\n",
       "      <td>...</td>\n",
       "      <td>...</td>\n",
       "      <td>...</td>\n",
       "      <td>...</td>\n",
       "      <td>...</td>\n",
       "    </tr>\n",
       "    <tr>\n",
       "      <th>2020-05-07</th>\n",
       "      <td>184.550003</td>\n",
       "      <td>182.580002</td>\n",
       "      <td>184.169998</td>\n",
       "      <td>183.600006</td>\n",
       "      <td>28316000.0</td>\n",
       "      <td>183.600006</td>\n",
       "    </tr>\n",
       "    <tr>\n",
       "      <th>2020-05-08</th>\n",
       "      <td>185.000000</td>\n",
       "      <td>183.360001</td>\n",
       "      <td>184.979996</td>\n",
       "      <td>184.679993</td>\n",
       "      <td>30912600.0</td>\n",
       "      <td>184.679993</td>\n",
       "    </tr>\n",
       "    <tr>\n",
       "      <th>2020-05-11</th>\n",
       "      <td>187.509995</td>\n",
       "      <td>182.850006</td>\n",
       "      <td>183.149994</td>\n",
       "      <td>186.740005</td>\n",
       "      <td>30809400.0</td>\n",
       "      <td>186.740005</td>\n",
       "    </tr>\n",
       "    <tr>\n",
       "      <th>2020-05-12</th>\n",
       "      <td>187.039993</td>\n",
       "      <td>182.300003</td>\n",
       "      <td>186.800003</td>\n",
       "      <td>182.509995</td>\n",
       "      <td>32038200.0</td>\n",
       "      <td>182.509995</td>\n",
       "    </tr>\n",
       "    <tr>\n",
       "      <th>2020-05-13</th>\n",
       "      <td>184.050003</td>\n",
       "      <td>176.539993</td>\n",
       "      <td>182.550003</td>\n",
       "      <td>179.750000</td>\n",
       "      <td>44650800.0</td>\n",
       "      <td>179.750000</td>\n",
       "    </tr>\n",
       "  </tbody>\n",
       "</table>\n",
       "<p>2608 rows × 6 columns</p>\n",
       "</div>"
      ],
      "text/plain": [
       "                  High         Low        Open       Close      Volume  \\\n",
       "Date                                                                     \n",
       "2010-01-04   31.100000   30.590000   30.620001   30.950001  38409100.0   \n",
       "2010-01-05   31.100000   30.639999   30.850000   30.959999  49749600.0   \n",
       "2010-01-06   31.080000   30.520000   30.879999   30.770000  58182400.0   \n",
       "2010-01-07   30.700001   30.190001   30.629999   30.450001  50559700.0   \n",
       "2010-01-08   30.879999   30.240000   30.280001   30.660000  51197400.0   \n",
       "...                ...         ...         ...         ...         ...   \n",
       "2020-05-07  184.550003  182.580002  184.169998  183.600006  28316000.0   \n",
       "2020-05-08  185.000000  183.360001  184.979996  184.679993  30912600.0   \n",
       "2020-05-11  187.509995  182.850006  183.149994  186.740005  30809400.0   \n",
       "2020-05-12  187.039993  182.300003  186.800003  182.509995  32038200.0   \n",
       "2020-05-13  184.050003  176.539993  182.550003  179.750000  44650800.0   \n",
       "\n",
       "             Adj Close  \n",
       "Date                    \n",
       "2010-01-04   24.294369  \n",
       "2010-01-05   24.302216  \n",
       "2010-01-06   24.153070  \n",
       "2010-01-07   23.901886  \n",
       "2010-01-08   24.066734  \n",
       "...                ...  \n",
       "2020-05-07  183.600006  \n",
       "2020-05-08  184.679993  \n",
       "2020-05-11  186.740005  \n",
       "2020-05-12  182.509995  \n",
       "2020-05-13  179.750000  \n",
       "\n",
       "[2608 rows x 6 columns]"
      ]
     },
     "execution_count": 49,
     "metadata": {},
     "output_type": "execute_result"
    }
   ],
   "source": [
    "c=\"MSFT\"\n",
    "i =\"2010-1-1\"\n",
    "o=\"2020-5-14\"\n",
    "stocks=data.DataReader(name=c,data_source=\"yahoo\",start=i,end=o)\n",
    "stocks"
   ]
  },
  {
   "cell_type": "code",
   "execution_count": 57,
   "metadata": {},
   "outputs": [
    {
     "data": {
      "text/plain": [
       "High         3.848000e+01\n",
       "Low          3.807000e+01\n",
       "Open         3.820000e+01\n",
       "Close        3.841000e+01\n",
       "Volume       2.680240e+07\n",
       "Adj Close    3.372342e+01\n",
       "Name: 2014-03-04 00:00:00, dtype: float64"
      ]
     },
     "execution_count": 57,
     "metadata": {},
     "output_type": "execute_result"
    }
   ],
   "source": [
    "stocks.values\n",
    "stocks.columns\n",
    "stocks.index[300]\n",
    "stocks.loc[\"2014-03-04\"]"
   ]
  },
  {
   "cell_type": "code",
   "execution_count": 67,
   "metadata": {},
   "outputs": [
    {
     "data": {
      "text/plain": [
       "DatetimeIndex(['1991-04-12', '1992-04-12', '1993-04-12', '1994-04-12',\n",
       "               '1995-04-12', '1996-04-12', '1997-04-12', '1998-04-12',\n",
       "               '1999-04-12', '2000-04-12', '2001-04-12', '2002-04-12',\n",
       "               '2003-04-12', '2004-04-12', '2005-04-12', '2006-04-12',\n",
       "               '2007-04-12', '2008-04-12', '2009-04-12', '2010-04-12',\n",
       "               '2011-04-12', '2012-04-12', '2013-04-12', '2014-04-12',\n",
       "               '2015-04-12', '2016-04-12', '2017-04-12'],\n",
       "              dtype='datetime64[ns]', freq='<DateOffset: years=1>')"
      ]
     },
     "execution_count": 67,
     "metadata": {},
     "output_type": "execute_result"
    }
   ],
   "source": [
    "b=pd.date_range(start=\"1991-04-12\",end=\"2017-12-31\",freq=pd.DateOffset(years=1))\n",
    "b"
   ]
  },
  {
   "cell_type": "code",
   "execution_count": 68,
   "metadata": {},
   "outputs": [
    {
     "data": {
      "text/html": [
       "<div>\n",
       "<style scoped>\n",
       "    .dataframe tbody tr th:only-of-type {\n",
       "        vertical-align: middle;\n",
       "    }\n",
       "\n",
       "    .dataframe tbody tr th {\n",
       "        vertical-align: top;\n",
       "    }\n",
       "\n",
       "    .dataframe thead th {\n",
       "        text-align: right;\n",
       "    }\n",
       "</style>\n",
       "<table border=\"1\" class=\"dataframe\">\n",
       "  <thead>\n",
       "    <tr style=\"text-align: right;\">\n",
       "      <th></th>\n",
       "      <th>High</th>\n",
       "      <th>Low</th>\n",
       "      <th>Open</th>\n",
       "      <th>Close</th>\n",
       "      <th>Volume</th>\n",
       "      <th>Adj Close</th>\n",
       "    </tr>\n",
       "    <tr>\n",
       "      <th>Date</th>\n",
       "      <th></th>\n",
       "      <th></th>\n",
       "      <th></th>\n",
       "      <th></th>\n",
       "      <th></th>\n",
       "      <th></th>\n",
       "    </tr>\n",
       "  </thead>\n",
       "  <tbody>\n",
       "    <tr>\n",
       "      <th>2010-04-12</th>\n",
       "      <td>30.490000</td>\n",
       "      <td>30.209999</td>\n",
       "      <td>30.250000</td>\n",
       "      <td>30.320000</td>\n",
       "      <td>37068800.0</td>\n",
       "      <td>23.911137</td>\n",
       "    </tr>\n",
       "    <tr>\n",
       "      <th>2011-04-12</th>\n",
       "      <td>25.850000</td>\n",
       "      <td>25.549999</td>\n",
       "      <td>25.830000</td>\n",
       "      <td>25.639999</td>\n",
       "      <td>36920400.0</td>\n",
       "      <td>20.666864</td>\n",
       "    </tr>\n",
       "    <tr>\n",
       "      <th>2012-04-12</th>\n",
       "      <td>31.040001</td>\n",
       "      <td>30.420000</td>\n",
       "      <td>30.480000</td>\n",
       "      <td>30.980000</td>\n",
       "      <td>38304000.0</td>\n",
       "      <td>25.651670</td>\n",
       "    </tr>\n",
       "    <tr>\n",
       "      <th>2013-04-12</th>\n",
       "      <td>29.020000</td>\n",
       "      <td>28.660000</td>\n",
       "      <td>28.850000</td>\n",
       "      <td>28.790001</td>\n",
       "      <td>62886300.0</td>\n",
       "      <td>24.553804</td>\n",
       "    </tr>\n",
       "    <tr>\n",
       "      <th>2016-04-12</th>\n",
       "      <td>54.779999</td>\n",
       "      <td>53.759998</td>\n",
       "      <td>54.369999</td>\n",
       "      <td>54.650002</td>\n",
       "      <td>24944300.0</td>\n",
       "      <td>50.621754</td>\n",
       "    </tr>\n",
       "    <tr>\n",
       "      <th>2017-04-12</th>\n",
       "      <td>65.510002</td>\n",
       "      <td>65.110001</td>\n",
       "      <td>65.419998</td>\n",
       "      <td>65.230003</td>\n",
       "      <td>17108500.0</td>\n",
       "      <td>62.011013</td>\n",
       "    </tr>\n",
       "  </tbody>\n",
       "</table>\n",
       "</div>"
      ],
      "text/plain": [
       "                 High        Low       Open      Close      Volume  Adj Close\n",
       "Date                                                                         \n",
       "2010-04-12  30.490000  30.209999  30.250000  30.320000  37068800.0  23.911137\n",
       "2011-04-12  25.850000  25.549999  25.830000  25.639999  36920400.0  20.666864\n",
       "2012-04-12  31.040001  30.420000  30.480000  30.980000  38304000.0  25.651670\n",
       "2013-04-12  29.020000  28.660000  28.850000  28.790001  62886300.0  24.553804\n",
       "2016-04-12  54.779999  53.759998  54.369999  54.650002  24944300.0  50.621754\n",
       "2017-04-12  65.510002  65.110001  65.419998  65.230003  17108500.0  62.011013"
      ]
     },
     "execution_count": 68,
     "metadata": {},
     "output_type": "execute_result"
    }
   ],
   "source": [
    "stocks[stocks.index.isin(b)]"
   ]
  },
  {
   "cell_type": "code",
   "execution_count": 70,
   "metadata": {},
   "outputs": [
    {
     "ename": "ValueError",
     "evalue": "cannot insert Is Start of Month, already exists",
     "output_type": "error",
     "traceback": [
      "\u001b[1;31m---------------------------------------------------------------------------\u001b[0m",
      "\u001b[1;31mValueError\u001b[0m                                Traceback (most recent call last)",
      "\u001b[1;32m<ipython-input-70-89cba9ab0da6>\u001b[0m in \u001b[0;36m<module>\u001b[1;34m\u001b[0m\n\u001b[1;32m----> 1\u001b[1;33m \u001b[0mstocks\u001b[0m\u001b[1;33m.\u001b[0m\u001b[0minsert\u001b[0m\u001b[1;33m(\u001b[0m\u001b[1;36m1\u001b[0m\u001b[1;33m,\u001b[0m\u001b[1;34m\"Is Start of Month\"\u001b[0m\u001b[1;33m,\u001b[0m\u001b[0mstocks\u001b[0m\u001b[1;33m.\u001b[0m\u001b[0mindex\u001b[0m\u001b[1;33m.\u001b[0m\u001b[0mis_month_start\u001b[0m\u001b[1;33m)\u001b[0m\u001b[1;33m\u001b[0m\u001b[1;33m\u001b[0m\u001b[0m\n\u001b[0m\u001b[0;32m      2\u001b[0m \u001b[0mstocks\u001b[0m\u001b[1;33m\u001b[0m\u001b[1;33m\u001b[0m\u001b[0m\n",
      "\u001b[1;32mC:\\ProgramData\\Anaconda3\\lib\\site-packages\\pandas\\core\\frame.py\u001b[0m in \u001b[0;36minsert\u001b[1;34m(self, loc, column, value, allow_duplicates)\u001b[0m\n\u001b[0;32m   3494\u001b[0m         \u001b[0mself\u001b[0m\u001b[1;33m.\u001b[0m\u001b[0m_ensure_valid_index\u001b[0m\u001b[1;33m(\u001b[0m\u001b[0mvalue\u001b[0m\u001b[1;33m)\u001b[0m\u001b[1;33m\u001b[0m\u001b[1;33m\u001b[0m\u001b[0m\n\u001b[0;32m   3495\u001b[0m         \u001b[0mvalue\u001b[0m \u001b[1;33m=\u001b[0m \u001b[0mself\u001b[0m\u001b[1;33m.\u001b[0m\u001b[0m_sanitize_column\u001b[0m\u001b[1;33m(\u001b[0m\u001b[0mcolumn\u001b[0m\u001b[1;33m,\u001b[0m \u001b[0mvalue\u001b[0m\u001b[1;33m,\u001b[0m \u001b[0mbroadcast\u001b[0m\u001b[1;33m=\u001b[0m\u001b[1;32mFalse\u001b[0m\u001b[1;33m)\u001b[0m\u001b[1;33m\u001b[0m\u001b[1;33m\u001b[0m\u001b[0m\n\u001b[1;32m-> 3496\u001b[1;33m         \u001b[0mself\u001b[0m\u001b[1;33m.\u001b[0m\u001b[0m_data\u001b[0m\u001b[1;33m.\u001b[0m\u001b[0minsert\u001b[0m\u001b[1;33m(\u001b[0m\u001b[0mloc\u001b[0m\u001b[1;33m,\u001b[0m \u001b[0mcolumn\u001b[0m\u001b[1;33m,\u001b[0m \u001b[0mvalue\u001b[0m\u001b[1;33m,\u001b[0m \u001b[0mallow_duplicates\u001b[0m\u001b[1;33m=\u001b[0m\u001b[0mallow_duplicates\u001b[0m\u001b[1;33m)\u001b[0m\u001b[1;33m\u001b[0m\u001b[1;33m\u001b[0m\u001b[0m\n\u001b[0m\u001b[0;32m   3497\u001b[0m \u001b[1;33m\u001b[0m\u001b[0m\n\u001b[0;32m   3498\u001b[0m     \u001b[1;32mdef\u001b[0m \u001b[0massign\u001b[0m\u001b[1;33m(\u001b[0m\u001b[0mself\u001b[0m\u001b[1;33m,\u001b[0m \u001b[1;33m**\u001b[0m\u001b[0mkwargs\u001b[0m\u001b[1;33m)\u001b[0m \u001b[1;33m->\u001b[0m \u001b[1;34m\"DataFrame\"\u001b[0m\u001b[1;33m:\u001b[0m\u001b[1;33m\u001b[0m\u001b[1;33m\u001b[0m\u001b[0m\n",
      "\u001b[1;32mC:\\ProgramData\\Anaconda3\\lib\\site-packages\\pandas\\core\\internals\\managers.py\u001b[0m in \u001b[0;36minsert\u001b[1;34m(self, loc, item, value, allow_duplicates)\u001b[0m\n\u001b[0;32m   1171\u001b[0m         \u001b[1;32mif\u001b[0m \u001b[1;32mnot\u001b[0m \u001b[0mallow_duplicates\u001b[0m \u001b[1;32mand\u001b[0m \u001b[0mitem\u001b[0m \u001b[1;32min\u001b[0m \u001b[0mself\u001b[0m\u001b[1;33m.\u001b[0m\u001b[0mitems\u001b[0m\u001b[1;33m:\u001b[0m\u001b[1;33m\u001b[0m\u001b[1;33m\u001b[0m\u001b[0m\n\u001b[0;32m   1172\u001b[0m             \u001b[1;31m# Should this be a different kind of error??\u001b[0m\u001b[1;33m\u001b[0m\u001b[1;33m\u001b[0m\u001b[1;33m\u001b[0m\u001b[0m\n\u001b[1;32m-> 1173\u001b[1;33m             \u001b[1;32mraise\u001b[0m \u001b[0mValueError\u001b[0m\u001b[1;33m(\u001b[0m\u001b[1;34mf\"cannot insert {item}, already exists\"\u001b[0m\u001b[1;33m)\u001b[0m\u001b[1;33m\u001b[0m\u001b[1;33m\u001b[0m\u001b[0m\n\u001b[0m\u001b[0;32m   1174\u001b[0m \u001b[1;33m\u001b[0m\u001b[0m\n\u001b[0;32m   1175\u001b[0m         \u001b[1;32mif\u001b[0m \u001b[1;32mnot\u001b[0m \u001b[0misinstance\u001b[0m\u001b[1;33m(\u001b[0m\u001b[0mloc\u001b[0m\u001b[1;33m,\u001b[0m \u001b[0mint\u001b[0m\u001b[1;33m)\u001b[0m\u001b[1;33m:\u001b[0m\u001b[1;33m\u001b[0m\u001b[1;33m\u001b[0m\u001b[0m\n",
      "\u001b[1;31mValueError\u001b[0m: cannot insert Is Start of Month, already exists"
     ]
    }
   ],
   "source": [
    "stocks.insert(1,\"Is Start of Month\",stocks.index.is_month_start)"
   ]
  },
  {
   "cell_type": "code",
   "execution_count": 71,
   "metadata": {},
   "outputs": [
    {
     "data": {
      "text/html": [
       "<div>\n",
       "<style scoped>\n",
       "    .dataframe tbody tr th:only-of-type {\n",
       "        vertical-align: middle;\n",
       "    }\n",
       "\n",
       "    .dataframe tbody tr th {\n",
       "        vertical-align: top;\n",
       "    }\n",
       "\n",
       "    .dataframe thead th {\n",
       "        text-align: right;\n",
       "    }\n",
       "</style>\n",
       "<table border=\"1\" class=\"dataframe\">\n",
       "  <thead>\n",
       "    <tr style=\"text-align: right;\">\n",
       "      <th></th>\n",
       "      <th>High</th>\n",
       "      <th>Is Start of Month</th>\n",
       "      <th>Low</th>\n",
       "      <th>Open</th>\n",
       "      <th>Close</th>\n",
       "      <th>Volume</th>\n",
       "      <th>Adj Close</th>\n",
       "    </tr>\n",
       "    <tr>\n",
       "      <th>Date</th>\n",
       "      <th></th>\n",
       "      <th></th>\n",
       "      <th></th>\n",
       "      <th></th>\n",
       "      <th></th>\n",
       "      <th></th>\n",
       "      <th></th>\n",
       "    </tr>\n",
       "  </thead>\n",
       "  <tbody>\n",
       "    <tr>\n",
       "      <th>2010-01-04</th>\n",
       "      <td>31.100000</td>\n",
       "      <td>False</td>\n",
       "      <td>30.590000</td>\n",
       "      <td>30.620001</td>\n",
       "      <td>30.950001</td>\n",
       "      <td>38409100.0</td>\n",
       "      <td>24.294369</td>\n",
       "    </tr>\n",
       "    <tr>\n",
       "      <th>2010-01-05</th>\n",
       "      <td>31.100000</td>\n",
       "      <td>False</td>\n",
       "      <td>30.639999</td>\n",
       "      <td>30.850000</td>\n",
       "      <td>30.959999</td>\n",
       "      <td>49749600.0</td>\n",
       "      <td>24.302216</td>\n",
       "    </tr>\n",
       "    <tr>\n",
       "      <th>2010-01-06</th>\n",
       "      <td>31.080000</td>\n",
       "      <td>False</td>\n",
       "      <td>30.520000</td>\n",
       "      <td>30.879999</td>\n",
       "      <td>30.770000</td>\n",
       "      <td>58182400.0</td>\n",
       "      <td>24.153070</td>\n",
       "    </tr>\n",
       "    <tr>\n",
       "      <th>2010-01-07</th>\n",
       "      <td>30.700001</td>\n",
       "      <td>False</td>\n",
       "      <td>30.190001</td>\n",
       "      <td>30.629999</td>\n",
       "      <td>30.450001</td>\n",
       "      <td>50559700.0</td>\n",
       "      <td>23.901886</td>\n",
       "    </tr>\n",
       "    <tr>\n",
       "      <th>2010-01-08</th>\n",
       "      <td>30.879999</td>\n",
       "      <td>False</td>\n",
       "      <td>30.240000</td>\n",
       "      <td>30.280001</td>\n",
       "      <td>30.660000</td>\n",
       "      <td>51197400.0</td>\n",
       "      <td>24.066734</td>\n",
       "    </tr>\n",
       "    <tr>\n",
       "      <th>...</th>\n",
       "      <td>...</td>\n",
       "      <td>...</td>\n",
       "      <td>...</td>\n",
       "      <td>...</td>\n",
       "      <td>...</td>\n",
       "      <td>...</td>\n",
       "      <td>...</td>\n",
       "    </tr>\n",
       "    <tr>\n",
       "      <th>2020-05-07</th>\n",
       "      <td>184.550003</td>\n",
       "      <td>False</td>\n",
       "      <td>182.580002</td>\n",
       "      <td>184.169998</td>\n",
       "      <td>183.600006</td>\n",
       "      <td>28316000.0</td>\n",
       "      <td>183.600006</td>\n",
       "    </tr>\n",
       "    <tr>\n",
       "      <th>2020-05-08</th>\n",
       "      <td>185.000000</td>\n",
       "      <td>False</td>\n",
       "      <td>183.360001</td>\n",
       "      <td>184.979996</td>\n",
       "      <td>184.679993</td>\n",
       "      <td>30912600.0</td>\n",
       "      <td>184.679993</td>\n",
       "    </tr>\n",
       "    <tr>\n",
       "      <th>2020-05-11</th>\n",
       "      <td>187.509995</td>\n",
       "      <td>False</td>\n",
       "      <td>182.850006</td>\n",
       "      <td>183.149994</td>\n",
       "      <td>186.740005</td>\n",
       "      <td>30809400.0</td>\n",
       "      <td>186.740005</td>\n",
       "    </tr>\n",
       "    <tr>\n",
       "      <th>2020-05-12</th>\n",
       "      <td>187.039993</td>\n",
       "      <td>False</td>\n",
       "      <td>182.300003</td>\n",
       "      <td>186.800003</td>\n",
       "      <td>182.509995</td>\n",
       "      <td>32038200.0</td>\n",
       "      <td>182.509995</td>\n",
       "    </tr>\n",
       "    <tr>\n",
       "      <th>2020-05-13</th>\n",
       "      <td>184.050003</td>\n",
       "      <td>False</td>\n",
       "      <td>176.539993</td>\n",
       "      <td>182.550003</td>\n",
       "      <td>179.750000</td>\n",
       "      <td>44650800.0</td>\n",
       "      <td>179.750000</td>\n",
       "    </tr>\n",
       "  </tbody>\n",
       "</table>\n",
       "<p>2608 rows × 7 columns</p>\n",
       "</div>"
      ],
      "text/plain": [
       "                  High  Is Start of Month         Low        Open       Close  \\\n",
       "Date                                                                            \n",
       "2010-01-04   31.100000              False   30.590000   30.620001   30.950001   \n",
       "2010-01-05   31.100000              False   30.639999   30.850000   30.959999   \n",
       "2010-01-06   31.080000              False   30.520000   30.879999   30.770000   \n",
       "2010-01-07   30.700001              False   30.190001   30.629999   30.450001   \n",
       "2010-01-08   30.879999              False   30.240000   30.280001   30.660000   \n",
       "...                ...                ...         ...         ...         ...   \n",
       "2020-05-07  184.550003              False  182.580002  184.169998  183.600006   \n",
       "2020-05-08  185.000000              False  183.360001  184.979996  184.679993   \n",
       "2020-05-11  187.509995              False  182.850006  183.149994  186.740005   \n",
       "2020-05-12  187.039993              False  182.300003  186.800003  182.509995   \n",
       "2020-05-13  184.050003              False  176.539993  182.550003  179.750000   \n",
       "\n",
       "                Volume   Adj Close  \n",
       "Date                                \n",
       "2010-01-04  38409100.0   24.294369  \n",
       "2010-01-05  49749600.0   24.302216  \n",
       "2010-01-06  58182400.0   24.153070  \n",
       "2010-01-07  50559700.0   23.901886  \n",
       "2010-01-08  51197400.0   24.066734  \n",
       "...                ...         ...  \n",
       "2020-05-07  28316000.0  183.600006  \n",
       "2020-05-08  30912600.0  184.679993  \n",
       "2020-05-11  30809400.0  186.740005  \n",
       "2020-05-12  32038200.0  182.509995  \n",
       "2020-05-13  44650800.0  179.750000  \n",
       "\n",
       "[2608 rows x 7 columns]"
      ]
     },
     "execution_count": 71,
     "metadata": {},
     "output_type": "execute_result"
    }
   ],
   "source": [
    "stocks"
   ]
  },
  {
   "cell_type": "code",
   "execution_count": 72,
   "metadata": {},
   "outputs": [
    {
     "data": {
      "text/html": [
       "<div>\n",
       "<style scoped>\n",
       "    .dataframe tbody tr th:only-of-type {\n",
       "        vertical-align: middle;\n",
       "    }\n",
       "\n",
       "    .dataframe tbody tr th {\n",
       "        vertical-align: top;\n",
       "    }\n",
       "\n",
       "    .dataframe thead th {\n",
       "        text-align: right;\n",
       "    }\n",
       "</style>\n",
       "<table border=\"1\" class=\"dataframe\">\n",
       "  <thead>\n",
       "    <tr style=\"text-align: right;\">\n",
       "      <th></th>\n",
       "      <th>High</th>\n",
       "      <th>Is Start of Month</th>\n",
       "      <th>Low</th>\n",
       "      <th>Open</th>\n",
       "      <th>Close</th>\n",
       "      <th>Volume</th>\n",
       "      <th>Adj Close</th>\n",
       "    </tr>\n",
       "    <tr>\n",
       "      <th>Date</th>\n",
       "      <th></th>\n",
       "      <th></th>\n",
       "      <th></th>\n",
       "      <th></th>\n",
       "      <th></th>\n",
       "      <th></th>\n",
       "      <th></th>\n",
       "    </tr>\n",
       "  </thead>\n",
       "  <tbody>\n",
       "    <tr>\n",
       "      <th>2012-06-07</th>\n",
       "      <td>29.700001</td>\n",
       "      <td>False</td>\n",
       "      <td>29.170000</td>\n",
       "      <td>29.639999</td>\n",
       "      <td>29.230000</td>\n",
       "      <td>37792800.0</td>\n",
       "      <td>24.361462</td>\n",
       "    </tr>\n",
       "    <tr>\n",
       "      <th>2012-06-08</th>\n",
       "      <td>29.680000</td>\n",
       "      <td>False</td>\n",
       "      <td>29.049999</td>\n",
       "      <td>29.209999</td>\n",
       "      <td>29.650000</td>\n",
       "      <td>42551100.0</td>\n",
       "      <td>24.711512</td>\n",
       "    </tr>\n",
       "    <tr>\n",
       "      <th>2012-06-11</th>\n",
       "      <td>29.809999</td>\n",
       "      <td>False</td>\n",
       "      <td>28.820000</td>\n",
       "      <td>29.730000</td>\n",
       "      <td>28.900000</td>\n",
       "      <td>46361900.0</td>\n",
       "      <td>24.086430</td>\n",
       "    </tr>\n",
       "    <tr>\n",
       "      <th>2012-06-12</th>\n",
       "      <td>29.299999</td>\n",
       "      <td>False</td>\n",
       "      <td>28.840000</td>\n",
       "      <td>29.100000</td>\n",
       "      <td>29.290001</td>\n",
       "      <td>35337900.0</td>\n",
       "      <td>24.411472</td>\n",
       "    </tr>\n",
       "    <tr>\n",
       "      <th>2012-06-13</th>\n",
       "      <td>29.440001</td>\n",
       "      <td>False</td>\n",
       "      <td>29.049999</td>\n",
       "      <td>29.219999</td>\n",
       "      <td>29.129999</td>\n",
       "      <td>32984600.0</td>\n",
       "      <td>24.278118</td>\n",
       "    </tr>\n",
       "    <tr>\n",
       "      <th>...</th>\n",
       "      <td>...</td>\n",
       "      <td>...</td>\n",
       "      <td>...</td>\n",
       "      <td>...</td>\n",
       "      <td>...</td>\n",
       "      <td>...</td>\n",
       "      <td>...</td>\n",
       "    </tr>\n",
       "    <tr>\n",
       "      <th>2014-05-09</th>\n",
       "      <td>39.849998</td>\n",
       "      <td>False</td>\n",
       "      <td>39.369999</td>\n",
       "      <td>39.540001</td>\n",
       "      <td>39.540001</td>\n",
       "      <td>29647600.0</td>\n",
       "      <td>34.715530</td>\n",
       "    </tr>\n",
       "    <tr>\n",
       "      <th>2014-05-12</th>\n",
       "      <td>40.020000</td>\n",
       "      <td>False</td>\n",
       "      <td>39.650002</td>\n",
       "      <td>39.740002</td>\n",
       "      <td>39.970001</td>\n",
       "      <td>22782600.0</td>\n",
       "      <td>35.093067</td>\n",
       "    </tr>\n",
       "    <tr>\n",
       "      <th>2014-05-13</th>\n",
       "      <td>40.500000</td>\n",
       "      <td>False</td>\n",
       "      <td>39.849998</td>\n",
       "      <td>39.919998</td>\n",
       "      <td>40.419998</td>\n",
       "      <td>27004800.0</td>\n",
       "      <td>35.738518</td>\n",
       "    </tr>\n",
       "    <tr>\n",
       "      <th>2014-05-14</th>\n",
       "      <td>40.450001</td>\n",
       "      <td>False</td>\n",
       "      <td>40.049999</td>\n",
       "      <td>40.299999</td>\n",
       "      <td>40.240002</td>\n",
       "      <td>18818700.0</td>\n",
       "      <td>35.579372</td>\n",
       "    </tr>\n",
       "    <tr>\n",
       "      <th>2014-05-15</th>\n",
       "      <td>40.400002</td>\n",
       "      <td>False</td>\n",
       "      <td>39.509998</td>\n",
       "      <td>40.090000</td>\n",
       "      <td>39.599998</td>\n",
       "      <td>37793200.0</td>\n",
       "      <td>35.013496</td>\n",
       "    </tr>\n",
       "  </tbody>\n",
       "</table>\n",
       "<p>487 rows × 7 columns</p>\n",
       "</div>"
      ],
      "text/plain": [
       "                 High  Is Start of Month        Low       Open      Close  \\\n",
       "Date                                                                        \n",
       "2012-06-07  29.700001              False  29.170000  29.639999  29.230000   \n",
       "2012-06-08  29.680000              False  29.049999  29.209999  29.650000   \n",
       "2012-06-11  29.809999              False  28.820000  29.730000  28.900000   \n",
       "2012-06-12  29.299999              False  28.840000  29.100000  29.290001   \n",
       "2012-06-13  29.440001              False  29.049999  29.219999  29.129999   \n",
       "...               ...                ...        ...        ...        ...   \n",
       "2014-05-09  39.849998              False  39.369999  39.540001  39.540001   \n",
       "2014-05-12  40.020000              False  39.650002  39.740002  39.970001   \n",
       "2014-05-13  40.500000              False  39.849998  39.919998  40.419998   \n",
       "2014-05-14  40.450001              False  40.049999  40.299999  40.240002   \n",
       "2014-05-15  40.400002              False  39.509998  40.090000  39.599998   \n",
       "\n",
       "                Volume  Adj Close  \n",
       "Date                               \n",
       "2012-06-07  37792800.0  24.361462  \n",
       "2012-06-08  42551100.0  24.711512  \n",
       "2012-06-11  46361900.0  24.086430  \n",
       "2012-06-12  35337900.0  24.411472  \n",
       "2012-06-13  32984600.0  24.278118  \n",
       "...                ...        ...  \n",
       "2014-05-09  29647600.0  34.715530  \n",
       "2014-05-12  22782600.0  35.093067  \n",
       "2014-05-13  27004800.0  35.738518  \n",
       "2014-05-14  18818700.0  35.579372  \n",
       "2014-05-15  37793200.0  35.013496  \n",
       "\n",
       "[487 rows x 7 columns]"
      ]
     },
     "execution_count": 72,
     "metadata": {},
     "output_type": "execute_result"
    }
   ],
   "source": [
    "stocks.truncate(before=\"2012-06-07\", after=\"2014-05-15\")"
   ]
  },
  {
   "cell_type": "code",
   "execution_count": 74,
   "metadata": {},
   "outputs": [
    {
     "data": {
      "text/html": [
       "<div>\n",
       "<style scoped>\n",
       "    .dataframe tbody tr th:only-of-type {\n",
       "        vertical-align: middle;\n",
       "    }\n",
       "\n",
       "    .dataframe tbody tr th {\n",
       "        vertical-align: top;\n",
       "    }\n",
       "\n",
       "    .dataframe thead th {\n",
       "        text-align: right;\n",
       "    }\n",
       "</style>\n",
       "<table border=\"1\" class=\"dataframe\">\n",
       "  <thead>\n",
       "    <tr style=\"text-align: right;\">\n",
       "      <th></th>\n",
       "      <th>High</th>\n",
       "      <th>Low</th>\n",
       "      <th>Open</th>\n",
       "      <th>Close</th>\n",
       "      <th>Volume</th>\n",
       "      <th>Adj Close</th>\n",
       "    </tr>\n",
       "    <tr>\n",
       "      <th>Date</th>\n",
       "      <th></th>\n",
       "      <th></th>\n",
       "      <th></th>\n",
       "      <th></th>\n",
       "      <th></th>\n",
       "      <th></th>\n",
       "    </tr>\n",
       "  </thead>\n",
       "  <tbody>\n",
       "    <tr>\n",
       "      <th>2004-08-19</th>\n",
       "      <td>51.835709</td>\n",
       "      <td>47.800831</td>\n",
       "      <td>49.813286</td>\n",
       "      <td>49.982655</td>\n",
       "      <td>44871300.0</td>\n",
       "      <td>49.982655</td>\n",
       "    </tr>\n",
       "    <tr>\n",
       "      <th>2004-08-20</th>\n",
       "      <td>54.336334</td>\n",
       "      <td>50.062355</td>\n",
       "      <td>50.316402</td>\n",
       "      <td>53.952770</td>\n",
       "      <td>22942800.0</td>\n",
       "      <td>53.952770</td>\n",
       "    </tr>\n",
       "    <tr>\n",
       "      <th>2004-08-23</th>\n",
       "      <td>56.528118</td>\n",
       "      <td>54.321388</td>\n",
       "      <td>55.168217</td>\n",
       "      <td>54.495735</td>\n",
       "      <td>18342800.0</td>\n",
       "      <td>54.495735</td>\n",
       "    </tr>\n",
       "  </tbody>\n",
       "</table>\n",
       "</div>"
      ],
      "text/plain": [
       "                 High        Low       Open      Close      Volume  Adj Close\n",
       "Date                                                                         \n",
       "2004-08-19  51.835709  47.800831  49.813286  49.982655  44871300.0  49.982655\n",
       "2004-08-20  54.336334  50.062355  50.316402  53.952770  22942800.0  53.952770\n",
       "2004-08-23  56.528118  54.321388  55.168217  54.495735  18342800.0  54.495735"
      ]
     },
     "execution_count": 74,
     "metadata": {},
     "output_type": "execute_result"
    }
   ],
   "source": [
    "st=data.DataReader(\"GOOG\",data_source=\"yahoo\",start=dt.date(2000,1,1),end=dt.datetime.now())\n",
    "st.head(3)"
   ]
  },
  {
   "cell_type": "code",
   "execution_count": 81,
   "metadata": {},
   "outputs": [
    {
     "data": {
      "text/plain": [
       "DatetimeIndex(['2004-09-02', '2004-09-03', '2004-09-06', '2004-09-07',\n",
       "               '2004-09-08', '2004-09-09', '2004-09-10', '2004-09-13',\n",
       "               '2004-09-14', '2004-09-15',\n",
       "               ...\n",
       "               '2020-05-14', '2020-05-15', '2020-05-18', '2020-05-19',\n",
       "               '2020-05-20', '2020-05-21', '2020-05-22', '2020-05-25',\n",
       "               '2020-05-26', '2020-05-27'],\n",
       "              dtype='datetime64[ns]', name='Date', length=3961, freq=None)"
      ]
     },
     "execution_count": 81,
     "metadata": {},
     "output_type": "execute_result"
    }
   ],
   "source": [
    "st.index + pd.DateOffset(weeks=2) # moves access 2 weeks"
   ]
  },
  {
   "cell_type": "code",
   "execution_count": 83,
   "metadata": {
    "scrolled": true
   },
   "outputs": [
    {
     "data": {
      "text/plain": [
       "DatetimeIndex(['2004-07-31', '2004-07-31', '2004-07-31', '2004-07-31',\n",
       "               '2004-07-31', '2004-07-31', '2004-07-31', '2004-07-31',\n",
       "               '2004-07-31', '2004-08-31',\n",
       "               ...\n",
       "               '2020-03-31', '2020-04-30', '2020-04-30', '2020-04-30',\n",
       "               '2020-04-30', '2020-04-30', '2020-04-30', '2020-04-30',\n",
       "               '2020-04-30', '2020-04-30'],\n",
       "              dtype='datetime64[ns]', name='Date', length=3961, freq=None)"
      ]
     },
     "execution_count": 83,
     "metadata": {},
     "output_type": "execute_result"
    }
   ],
   "source": [
    "st.index - pd.tseries.offsets.MonthEnd()"
   ]
  },
  {
   "cell_type": "code",
   "execution_count": 91,
   "metadata": {},
   "outputs": [
    {
     "data": {
      "text/plain": [
       "Timedelta('21 days 00:00:00')"
      ]
     },
     "execution_count": 91,
     "metadata": {},
     "output_type": "execute_result"
    }
   ],
   "source": [
    "tA=pd.Timestamp(\"2016-03-31\")\n",
    "tB=pd.Timestamp(\"2016-04-21\")\n",
    "tB-tA"
   ]
  },
  {
   "cell_type": "code",
   "execution_count": 94,
   "metadata": {},
   "outputs": [
    {
     "data": {
      "text/html": [
       "<div>\n",
       "<style scoped>\n",
       "    .dataframe tbody tr th:only-of-type {\n",
       "        vertical-align: middle;\n",
       "    }\n",
       "\n",
       "    .dataframe tbody tr th {\n",
       "        vertical-align: top;\n",
       "    }\n",
       "\n",
       "    .dataframe thead th {\n",
       "        text-align: right;\n",
       "    }\n",
       "</style>\n",
       "<table border=\"1\" class=\"dataframe\">\n",
       "  <thead>\n",
       "    <tr style=\"text-align: right;\">\n",
       "      <th></th>\n",
       "      <th>order_date</th>\n",
       "      <th>delivery_date</th>\n",
       "    </tr>\n",
       "    <tr>\n",
       "      <th>ID</th>\n",
       "      <th></th>\n",
       "      <th></th>\n",
       "    </tr>\n",
       "  </thead>\n",
       "  <tbody>\n",
       "    <tr>\n",
       "      <th>1</th>\n",
       "      <td>1998-05-24</td>\n",
       "      <td>1999-02-05</td>\n",
       "    </tr>\n",
       "    <tr>\n",
       "      <th>2</th>\n",
       "      <td>1992-04-22</td>\n",
       "      <td>1998-03-06</td>\n",
       "    </tr>\n",
       "    <tr>\n",
       "      <th>4</th>\n",
       "      <td>1991-02-10</td>\n",
       "      <td>1992-08-26</td>\n",
       "    </tr>\n",
       "    <tr>\n",
       "      <th>5</th>\n",
       "      <td>1992-07-21</td>\n",
       "      <td>1997-11-20</td>\n",
       "    </tr>\n",
       "    <tr>\n",
       "      <th>7</th>\n",
       "      <td>1993-09-02</td>\n",
       "      <td>1998-06-10</td>\n",
       "    </tr>\n",
       "    <tr>\n",
       "      <th>...</th>\n",
       "      <td>...</td>\n",
       "      <td>...</td>\n",
       "    </tr>\n",
       "    <tr>\n",
       "      <th>990</th>\n",
       "      <td>1991-06-24</td>\n",
       "      <td>1996-02-02</td>\n",
       "    </tr>\n",
       "    <tr>\n",
       "      <th>991</th>\n",
       "      <td>1991-09-09</td>\n",
       "      <td>1998-03-30</td>\n",
       "    </tr>\n",
       "    <tr>\n",
       "      <th>993</th>\n",
       "      <td>1990-11-16</td>\n",
       "      <td>1998-04-27</td>\n",
       "    </tr>\n",
       "    <tr>\n",
       "      <th>994</th>\n",
       "      <td>1993-06-03</td>\n",
       "      <td>1993-06-13</td>\n",
       "    </tr>\n",
       "    <tr>\n",
       "      <th>997</th>\n",
       "      <td>1990-01-04</td>\n",
       "      <td>1991-10-03</td>\n",
       "    </tr>\n",
       "  </tbody>\n",
       "</table>\n",
       "<p>501 rows × 2 columns</p>\n",
       "</div>"
      ],
      "text/plain": [
       "    order_date delivery_date\n",
       "ID                          \n",
       "1   1998-05-24    1999-02-05\n",
       "2   1992-04-22    1998-03-06\n",
       "4   1991-02-10    1992-08-26\n",
       "5   1992-07-21    1997-11-20\n",
       "7   1993-09-02    1998-06-10\n",
       "..         ...           ...\n",
       "990 1991-06-24    1996-02-02\n",
       "991 1991-09-09    1998-03-30\n",
       "993 1990-11-16    1998-04-27\n",
       "994 1993-06-03    1993-06-13\n",
       "997 1990-01-04    1991-10-03\n",
       "\n",
       "[501 rows x 2 columns]"
      ]
     },
     "execution_count": 94,
     "metadata": {},
     "output_type": "execute_result"
    }
   ],
   "source": [
    "sh=pd.read_csv(\"ecommerce.csv\",parse_dates=[\"order_date\",\"delivery_date\"],index_col=\"ID\")\n",
    "sh"
   ]
  },
  {
   "cell_type": "code",
   "execution_count": 95,
   "metadata": {},
   "outputs": [
    {
     "data": {
      "text/html": [
       "<div>\n",
       "<style scoped>\n",
       "    .dataframe tbody tr th:only-of-type {\n",
       "        vertical-align: middle;\n",
       "    }\n",
       "\n",
       "    .dataframe tbody tr th {\n",
       "        vertical-align: top;\n",
       "    }\n",
       "\n",
       "    .dataframe thead th {\n",
       "        text-align: right;\n",
       "    }\n",
       "</style>\n",
       "<table border=\"1\" class=\"dataframe\">\n",
       "  <thead>\n",
       "    <tr style=\"text-align: right;\">\n",
       "      <th></th>\n",
       "      <th>order_date</th>\n",
       "      <th>delivery_date</th>\n",
       "      <th>delivery_time</th>\n",
       "    </tr>\n",
       "    <tr>\n",
       "      <th>ID</th>\n",
       "      <th></th>\n",
       "      <th></th>\n",
       "      <th></th>\n",
       "    </tr>\n",
       "  </thead>\n",
       "  <tbody>\n",
       "    <tr>\n",
       "      <th>1</th>\n",
       "      <td>1998-05-24</td>\n",
       "      <td>1999-02-05</td>\n",
       "      <td>257 days</td>\n",
       "    </tr>\n",
       "    <tr>\n",
       "      <th>2</th>\n",
       "      <td>1992-04-22</td>\n",
       "      <td>1998-03-06</td>\n",
       "      <td>2144 days</td>\n",
       "    </tr>\n",
       "    <tr>\n",
       "      <th>4</th>\n",
       "      <td>1991-02-10</td>\n",
       "      <td>1992-08-26</td>\n",
       "      <td>563 days</td>\n",
       "    </tr>\n",
       "    <tr>\n",
       "      <th>5</th>\n",
       "      <td>1992-07-21</td>\n",
       "      <td>1997-11-20</td>\n",
       "      <td>1948 days</td>\n",
       "    </tr>\n",
       "    <tr>\n",
       "      <th>7</th>\n",
       "      <td>1993-09-02</td>\n",
       "      <td>1998-06-10</td>\n",
       "      <td>1742 days</td>\n",
       "    </tr>\n",
       "    <tr>\n",
       "      <th>...</th>\n",
       "      <td>...</td>\n",
       "      <td>...</td>\n",
       "      <td>...</td>\n",
       "    </tr>\n",
       "    <tr>\n",
       "      <th>990</th>\n",
       "      <td>1991-06-24</td>\n",
       "      <td>1996-02-02</td>\n",
       "      <td>1684 days</td>\n",
       "    </tr>\n",
       "    <tr>\n",
       "      <th>991</th>\n",
       "      <td>1991-09-09</td>\n",
       "      <td>1998-03-30</td>\n",
       "      <td>2394 days</td>\n",
       "    </tr>\n",
       "    <tr>\n",
       "      <th>993</th>\n",
       "      <td>1990-11-16</td>\n",
       "      <td>1998-04-27</td>\n",
       "      <td>2719 days</td>\n",
       "    </tr>\n",
       "    <tr>\n",
       "      <th>994</th>\n",
       "      <td>1993-06-03</td>\n",
       "      <td>1993-06-13</td>\n",
       "      <td>10 days</td>\n",
       "    </tr>\n",
       "    <tr>\n",
       "      <th>997</th>\n",
       "      <td>1990-01-04</td>\n",
       "      <td>1991-10-03</td>\n",
       "      <td>637 days</td>\n",
       "    </tr>\n",
       "  </tbody>\n",
       "</table>\n",
       "<p>501 rows × 3 columns</p>\n",
       "</div>"
      ],
      "text/plain": [
       "    order_date delivery_date delivery_time\n",
       "ID                                        \n",
       "1   1998-05-24    1999-02-05      257 days\n",
       "2   1992-04-22    1998-03-06     2144 days\n",
       "4   1991-02-10    1992-08-26      563 days\n",
       "5   1992-07-21    1997-11-20     1948 days\n",
       "7   1993-09-02    1998-06-10     1742 days\n",
       "..         ...           ...           ...\n",
       "990 1991-06-24    1996-02-02     1684 days\n",
       "991 1991-09-09    1998-03-30     2394 days\n",
       "993 1990-11-16    1998-04-27     2719 days\n",
       "994 1993-06-03    1993-06-13       10 days\n",
       "997 1990-01-04    1991-10-03      637 days\n",
       "\n",
       "[501 rows x 3 columns]"
      ]
     },
     "execution_count": 95,
     "metadata": {},
     "output_type": "execute_result"
    }
   ],
   "source": [
    "sh[\"delivery_time\"]=sh[\"delivery_date\"] - sh[\"order_date\"]\n",
    "sh"
   ]
  },
  {
   "cell_type": "code",
   "execution_count": 96,
   "metadata": {},
   "outputs": [
    {
     "data": {
      "text/html": [
       "<div>\n",
       "<style scoped>\n",
       "    .dataframe tbody tr th:only-of-type {\n",
       "        vertical-align: middle;\n",
       "    }\n",
       "\n",
       "    .dataframe tbody tr th {\n",
       "        vertical-align: top;\n",
       "    }\n",
       "\n",
       "    .dataframe thead th {\n",
       "        text-align: right;\n",
       "    }\n",
       "</style>\n",
       "<table border=\"1\" class=\"dataframe\">\n",
       "  <thead>\n",
       "    <tr style=\"text-align: right;\">\n",
       "      <th></th>\n",
       "      <th>order_date</th>\n",
       "      <th>delivery_date</th>\n",
       "      <th>delivery_time</th>\n",
       "    </tr>\n",
       "    <tr>\n",
       "      <th>ID</th>\n",
       "      <th></th>\n",
       "      <th></th>\n",
       "      <th></th>\n",
       "    </tr>\n",
       "  </thead>\n",
       "  <tbody>\n",
       "    <tr>\n",
       "      <th>2</th>\n",
       "      <td>1992-04-22</td>\n",
       "      <td>1998-03-06</td>\n",
       "      <td>2144 days</td>\n",
       "    </tr>\n",
       "    <tr>\n",
       "      <th>4</th>\n",
       "      <td>1991-02-10</td>\n",
       "      <td>1992-08-26</td>\n",
       "      <td>563 days</td>\n",
       "    </tr>\n",
       "    <tr>\n",
       "      <th>5</th>\n",
       "      <td>1992-07-21</td>\n",
       "      <td>1997-11-20</td>\n",
       "      <td>1948 days</td>\n",
       "    </tr>\n",
       "    <tr>\n",
       "      <th>7</th>\n",
       "      <td>1993-09-02</td>\n",
       "      <td>1998-06-10</td>\n",
       "      <td>1742 days</td>\n",
       "    </tr>\n",
       "    <tr>\n",
       "      <th>9</th>\n",
       "      <td>1990-01-25</td>\n",
       "      <td>1994-10-02</td>\n",
       "      <td>1711 days</td>\n",
       "    </tr>\n",
       "    <tr>\n",
       "      <th>...</th>\n",
       "      <td>...</td>\n",
       "      <td>...</td>\n",
       "      <td>...</td>\n",
       "    </tr>\n",
       "    <tr>\n",
       "      <th>986</th>\n",
       "      <td>1990-12-10</td>\n",
       "      <td>1992-12-16</td>\n",
       "      <td>737 days</td>\n",
       "    </tr>\n",
       "    <tr>\n",
       "      <th>990</th>\n",
       "      <td>1991-06-24</td>\n",
       "      <td>1996-02-02</td>\n",
       "      <td>1684 days</td>\n",
       "    </tr>\n",
       "    <tr>\n",
       "      <th>991</th>\n",
       "      <td>1991-09-09</td>\n",
       "      <td>1998-03-30</td>\n",
       "      <td>2394 days</td>\n",
       "    </tr>\n",
       "    <tr>\n",
       "      <th>993</th>\n",
       "      <td>1990-11-16</td>\n",
       "      <td>1998-04-27</td>\n",
       "      <td>2719 days</td>\n",
       "    </tr>\n",
       "    <tr>\n",
       "      <th>997</th>\n",
       "      <td>1990-01-04</td>\n",
       "      <td>1991-10-03</td>\n",
       "      <td>637 days</td>\n",
       "    </tr>\n",
       "  </tbody>\n",
       "</table>\n",
       "<p>394 rows × 3 columns</p>\n",
       "</div>"
      ],
      "text/plain": [
       "    order_date delivery_date delivery_time\n",
       "ID                                        \n",
       "2   1992-04-22    1998-03-06     2144 days\n",
       "4   1991-02-10    1992-08-26      563 days\n",
       "5   1992-07-21    1997-11-20     1948 days\n",
       "7   1993-09-02    1998-06-10     1742 days\n",
       "9   1990-01-25    1994-10-02     1711 days\n",
       "..         ...           ...           ...\n",
       "986 1990-12-10    1992-12-16      737 days\n",
       "990 1991-06-24    1996-02-02     1684 days\n",
       "991 1991-09-09    1998-03-30     2394 days\n",
       "993 1990-11-16    1998-04-27     2719 days\n",
       "997 1990-01-04    1991-10-03      637 days\n",
       "\n",
       "[394 rows x 3 columns]"
      ]
     },
     "execution_count": 96,
     "metadata": {},
     "output_type": "execute_result"
    }
   ],
   "source": [
    "sh[sh[\"delivery_time\"]> \"365 days\"]"
   ]
  },
  {
   "cell_type": "code",
   "execution_count": null,
   "metadata": {},
   "outputs": [],
   "source": []
  }
 ],
 "metadata": {
  "kernelspec": {
   "display_name": "Python 3",
   "language": "python",
   "name": "python3"
  },
  "language_info": {
   "codemirror_mode": {
    "name": "ipython",
    "version": 3
   },
   "file_extension": ".py",
   "mimetype": "text/x-python",
   "name": "python",
   "nbconvert_exporter": "python",
   "pygments_lexer": "ipython3",
   "version": "3.7.7"
  }
 },
 "nbformat": 4,
 "nbformat_minor": 4
}
